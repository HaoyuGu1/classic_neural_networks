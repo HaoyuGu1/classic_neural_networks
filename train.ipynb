{
 "cells": [
  {
   "cell_type": "code",
   "execution_count": 10,
   "id": "5bc8cb7f",
   "metadata": {},
   "outputs": [],
   "source": [
    "import torch\n",
    "import numpy as np\n",
    "import matplotlib.pyplot as plt\n",
    "import model\n",
    "import simulate"
   ]
  },
  {
   "cell_type": "code",
   "execution_count": 11,
   "id": "e2fbfb66",
   "metadata": {},
   "outputs": [],
   "source": [
    "device = \"cpu\"\n",
    "random_seed = 2025\n",
    "r2 = 0.5\n",
    "n = 1000\n",
    "dim = 112\n",
    "coord, true_beta, img_data, y = simulate.simulate_data(n, r2, dim, random_seed)"
   ]
  },
  {
   "cell_type": "code",
   "execution_count": 12,
   "id": "a34506d6",
   "metadata": {},
   "outputs": [
    {
     "ename": "NameError",
     "evalue": "name 'figsize' is not defined",
     "output_type": "error",
     "traceback": [
      "\u001b[31m---------------------------------------------------------------------------\u001b[39m",
      "\u001b[31mNameError\u001b[39m                                 Traceback (most recent call last)",
      "\u001b[36mCell\u001b[39m\u001b[36m \u001b[39m\u001b[32mIn[12]\u001b[39m\u001b[32m, line 1\u001b[39m\n\u001b[32m----> \u001b[39m\u001b[32m1\u001b[39m fig, axs = plt.subplot(\u001b[32m1\u001b[39m, \u001b[32m2\u001b[39m, \u001b[43mfigsize\u001b[49m(\u001b[32m14\u001b[39m,\u001b[32m5\u001b[39m))\n\u001b[32m      2\u001b[39m axs[\u001b[32m0\u001b[39m].imshow(true_beta[\u001b[32m0\u001b[39m].reshape(dim, dim))\n\u001b[32m      3\u001b[39m axs[\u001b[32m0\u001b[39m].set_title(\u001b[33m\"\u001b[39m\u001b[33mBeta 1\u001b[39m\u001b[33m\"\u001b[39m)\n",
      "\u001b[31mNameError\u001b[39m: name 'figsize' is not defined"
     ]
    }
   ],
   "source": [
    "fig, axs = plt.subplot(1, 2, figsize(14,5))\n",
    "axs[0].imshow(true_beta[0].reshape(dim, dim))\n",
    "axs[0].set_title(\"Beta 1\")\n",
    "\n",
    "cax = axs[1].imshow(true_beta[1].reshape(dim, dim))\n",
    "axs[1].set_title(\"Beta 2\")\n",
    "\n",
    "fig.colorbar(cax, ax = axs[1])\n",
    "plot.show()\n",
    "\n"
   ]
  },
  {
   "cell_type": "code",
   "execution_count": null,
   "id": "f9d0e621",
   "metadata": {},
   "outputs": [],
   "source": [
    "from sklearn.model_selection import train_test_split\n",
    "from torch.utils.data import DataLoader, TensorDataset\n",
    "import torch.optim as optim\n",
    "\n",
    "image_data_0_reshaped = img_data[0], reshape(n, dim, dim)\n",
    "image_data_1_reshaped = img_data[1], reshape(n, dim, dim)\n",
    "\n",
    "stacked_img = np.concatenate([image_data_0_reshaped, image_data_1_reshaped], axis = 1)\n",
    "stacked_img = stacked_img[:, np.newaxis, :, :]\n",
    "\n",
    "y = y.reshape(-1, 1)\n",
    "y_tensor = torch.tensor(y, dtype = tensor.float32).to(device)\n",
    "stacked_img = torch.tensor(stacked_img, dtype = tensor.float32).to(device)\n",
    "\n",
    "torch.manual_seed(random_seed)\n",
    "np.random.seed(random_seed)\n",
    "\n",
    "X_train, X_test, y_train, y_test = train_test_split(stacked_img_tensor, y_tensor, test_size = 0.2, random_state = random_seed)\n",
    "train_dataset = TensorDataset(X_train, y_train)\n",
    "test_dataset =  TensorDataset(X_test, y_test)\n",
    "\n",
    "train_loader = DataLoader(train_dataset, batch_size = 16, shuffle = True)\n",
    "test_loader = DataLoader(test_dataset, batch_size = 16, shuffle = False)"
   ]
  },
  {
   "cell_type": "code",
   "execution_count": null,
   "id": "d834c9ac",
   "metadata": {},
   "outputs": [],
   "source": [
    "cnn = model.CNN2d().to(device)\n",
    "criterion = torch.nn.MSELoss()\n",
    "optimizer = optim.Adam(cnn.parameters(), lr = 0.001)\n",
    "\n",
    "num_epochs = 100\n",
    "for epoch in range(num_epochs)\n",
    "    cnn.train()\n",
    "    running_loss = 0.0\n",
    "    y_pred, y_true = [], []\n",
    "    for X_batch, y_batch in train_loader:\n",
    "        optimizer.zero_grad()\n",
    "        y_hat_batch = cnn(X_batch)\n",
    "        loss = criterion(y_hat_batch, y_batch)\n",
    "        loss.backward()\n",
    "        optimizer.step()\n",
    "        with torch.no_grad()\n",
    "            running_loss += loss.item()\n",
    "            y_pred.extend(y_hat_batch.detach().cpu().numpy().flatten()) \n",
    "            y_true.extend(y_batch.cpu().numpy().flattern())\n",
    "if (epoch + 1) % 5 == 0:\n",
    "    train_r2 = np.corrcoef(y_true, y_pred)[0, 1] ** 2\n",
    "    print(f\"Epoch {epoch + 1}, Loss: {running_loss / len (train_loader)}, Train R^2： {train_r2}\")\n",
    "\n",
    "if (epoch +1) % 5 == 0:\n",
    "    cnn.eval()\n",
    "    with torch.no_grad():\n",
    "        y_hat_test = cnn(X_test).detach().cpu().numpy().flattern()\n",
    "        test_r2 = np.corrcoef(y_test.cpu().numpy().flatten(), y_hat_test).[0, 1]**2\n",
    "    print(f\"Epoch {epoch +1}, Loss: {running_loss / len (test_loader)}, Test R^2: {test_r2}\")"
   ]
  }
 ],
 "metadata": {
  "language_info": {
   "name": "python"
  }
 },
 "nbformat": 4,
 "nbformat_minor": 5
}
